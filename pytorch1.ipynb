{
 "cells": [
  {
   "cell_type": "markdown",
   "id": "9a46fbbe",
   "metadata": {
    "vscode": {
     "languageId": "plaintext"
    }
   },
   "source": [
    "### numpy와 닮은 파이토치(pytorch)"
   ]
  },
  {
   "cell_type": "code",
   "execution_count": 2,
   "id": "19672a09",
   "metadata": {},
   "outputs": [
    {
     "name": "stdout",
     "output_type": "stream",
     "text": [
      "NVIDIA GeForce RTX 4070 SUPER\n",
      "True\n",
      "2.8.0+cu126\n"
     ]
    }
   ],
   "source": [
    "import torch\n",
    "print(torch.cuda.get_device_name(0))\n",
    "print(torch.cuda.is_available())\n",
    "print(torch.__version__)"
   ]
  },
  {
   "cell_type": "code",
   "execution_count": 3,
   "id": "4c9045e5",
   "metadata": {},
   "outputs": [
    {
     "name": "stdout",
     "output_type": "stream",
     "text": [
      "tensor([1, 2, 3, 4])\n",
      "<class 'torch.Tensor'>\n",
      "torch.int64\n",
      "torch.Size([4])\n",
      "torch.float32\n",
      "tensor([1.0000, 2.0000, 3.1000, 4.0000])\n"
     ]
    }
   ],
   "source": [
    "a=torch.tensor([1,2,3,4]) # list가 입력으로 들어가는 함수\n",
    "print(a)\n",
    "print(type(a))\n",
    "print(a.dtype) # data type\n",
    "print(a.shape)\n",
    "b=torch.tensor([1,2,3.1,4])\n",
    "print(b.dtype) # 하나라도 실수면 자동으로 실수 타입으로\n",
    "print(b) "
   ]
  },
  {
   "cell_type": "code",
   "execution_count": 4,
   "id": "26f5547d",
   "metadata": {},
   "outputs": [
    {
     "name": "stdout",
     "output_type": "stream",
     "text": [
      "tensor([[1, 2, 3],\n",
      "        [3, 4, 5]])\n",
      "torch.Size([2, 3])\n",
      "2\n",
      "6\n"
     ]
    }
   ],
   "source": [
    "A=torch.tensor([[1,2,3],[3,4,5]]) # 이 셀부터는 import torch 는 실행했다 치고 작성\n",
    "# A=torch.tensor([[1,2],[3,4,5]]) # 리스트와는 달리 이제는 행렬이라서 각 행에 해당하는 숫자의 개수가 같아야 함\n",
    "print(A)\n",
    "print(A.shape)\n",
    "print(A.ndim) # 차원의 수\n",
    "print(A.numel()) # 전체 성분의 수"
   ]
  },
  {
   "cell_type": "code",
   "execution_count": 5,
   "id": "d179a473",
   "metadata": {},
   "outputs": [
    {
     "name": "stdout",
     "output_type": "stream",
     "text": [
      "tensor([0., 0., 0., 0., 0.])\n",
      "tensor([[0, 0, 0],\n",
      "        [0, 0, 0]])\n",
      "tensor([1., 1., 1., 1., 1.])\n",
      "tensor([[0., 0., 0.],\n",
      "        [0., 0., 0.],\n",
      "        [0., 0., 0.]])\n",
      "tensor([3, 5, 7, 9])\n",
      "tensor([0.0000, 0.1000, 0.2000, 0.3000, 0.4000, 0.5000, 0.6000, 0.7000, 0.8000,\n",
      "        0.9000])\n",
      "tensor([0.0000, 0.1111, 0.2222, 0.3333, 0.4444, 0.5556, 0.6667, 0.7778, 0.8889,\n",
      "        1.0000])\n"
     ]
    }
   ],
   "source": [
    "print(torch.zeros(5))\n",
    "print(torch.zeros_like(A))\n",
    "print(torch.ones(5))\n",
    "print(torch.zeros(3,3))\n",
    "print(torch.arange(3,10,2)) # range랑 같은데 tensor로 만들어줌\n",
    "print(torch.arange(0,1,0.1)) # 소수점 가능\n",
    "print(torch.linspace(0,1,10)) # 0 에서부터 1 포함 10개로"
   ]
  },
  {
   "cell_type": "code",
   "execution_count": 6,
   "id": "b9dfff95",
   "metadata": {},
   "outputs": [
    {
     "name": "stdout",
     "output_type": "stream",
     "text": [
      "tensor([5, 7, 9])\n"
     ]
    }
   ],
   "source": [
    "a=torch.tensor([1,2,3])\n",
    "b=torch.tensor([4,5,6])\n",
    "c=a+b # 덧셈은? 성분끼리의 합! (벡터 덧셈)\n",
    "print(c)"
   ]
  },
  {
   "cell_type": "code",
   "execution_count": 7,
   "id": "a9bc57d5",
   "metadata": {},
   "outputs": [
    {
     "name": "stdout",
     "output_type": "stream",
     "text": [
      "tensor([[5, 7, 9],\n",
      "        [2, 3, 4]])\n",
      "tensor([[-3, -3, -3],\n",
      "        [ 0,  1,  2]])\n",
      "\n",
      "tensor([[ 4, 10, 18],\n",
      "        [ 1,  2,  3]])\n",
      "tensor([[0.2500, 0.4000, 0.5000],\n",
      "        [1.0000, 2.0000, 3.0000]])\n",
      "tensor([[16, 25, 36],\n",
      "        [ 1,  1,  1]])\n"
     ]
    }
   ],
   "source": [
    "A=torch.tensor([[1,2,3],[1,2,3]])\n",
    "B=torch.tensor([[4,5,6],[1,1,1]])\n",
    "C=A+B\n",
    "D=A-B\n",
    "print(C)\n",
    "print(D)\n",
    "print()\n",
    "print(A*B) # 곱셈은? 성분끼리의 곱! (Hadamard product)\n",
    "print(A/B) # 나누기도 마찬가지\n",
    "print(B**2) # 제곱도 각 성분에 대해서 해준다"
   ]
  },
  {
   "cell_type": "code",
   "execution_count": 8,
   "id": "69269955",
   "metadata": {},
   "outputs": [
    {
     "name": "stdout",
     "output_type": "stream",
     "text": [
      "tensor([[ 1,  4],\n",
      "        [ 9, 16]])\n",
      "tensor([[ 7, 10],\n",
      "        [15, 22]])\n",
      "tensor([[ 7, 10],\n",
      "        [15, 22]])\n"
     ]
    }
   ],
   "source": [
    "A=torch.tensor([[1,2],[3,4]])\n",
    "B=torch.tensor([[1,2],[3,4]])\n",
    "print(A*B)\n",
    "print(A@B) # 이게 진짜 행렬 곱\n",
    "print(A.matmul(B)) # 위와 동일"
   ]
  },
  {
   "cell_type": "markdown",
   "id": "e647e3d2",
   "metadata": {},
   "source": [
    "### pytorch의 인덱싱과 슬라이싱"
   ]
  },
  {
   "cell_type": "code",
   "execution_count": 9,
   "id": "423ea4d9",
   "metadata": {},
   "outputs": [
    {
     "name": "stdout",
     "output_type": "stream",
     "text": [
      "tensor(1)\n",
      "tensor(2)\n",
      "tensor(9)\n",
      "tensor([2, 3, 4])\n",
      "tensor([8, 9])\n",
      "tensor([1, 2, 3, 4, 5, 6, 7])\n",
      "tensor([1, 2, 3, 4, 5, 6, 7, 8, 9])\n"
     ]
    }
   ],
   "source": [
    "a=torch.tensor([1,2,3,4,5,6,7,8,9])\n",
    "# 인덱싱과 슬라이싱, list할 때와 동일!\n",
    "print(a[0])\n",
    "print(a[1])\n",
    "print(a[-1])\n",
    "print(a[1:4])\n",
    "print(a[7:]) # 이상\n",
    "print(a[:7]) # 미만\n",
    "print(a[:])"
   ]
  },
  {
   "cell_type": "code",
   "execution_count": null,
   "id": "756a0761",
   "metadata": {},
   "outputs": [
    {
     "name": "stdout",
     "output_type": "stream",
     "text": [
      "tensor([1, 2, 3])\n",
      "tensor([7, 8, 9])\n",
      "tensor([[4, 5, 6],\n",
      "        [7, 8, 9]])\n",
      "tensor([[1, 2, 3],\n",
      "        [4, 5, 6],\n",
      "        [7, 8, 9]])\n",
      "tensor(3)\n",
      "tensor(3)\n",
      "[[1, 2, 3, 4], [5, 6, 7, 8]]\n",
      "3\n",
      "tensor([4, 5, 6])\n",
      "tensor([4, 6])\n",
      "tensor([3, 6, 9])\n",
      "tensor([7, 8, 9])\n"
     ]
    }
   ],
   "source": [
    "# 행렬에 대한 인덱싱과 슬라이싱\n",
    "A=torch.tensor([[1,2,3],[4,5,6],[7,8,9]])\n",
    "print(A[0]) # 하나만 쓰면 행에 대한 인덱싱 (리스트 속 리스트 생각)\n",
    "print(A[-1])\n",
    "print(A[1:])\n",
    "print(A[:])\n",
    "print(A[0][2])\n",
    "print(A[0,2]) # 2차원 행렬도 동일한데, 리스트와 달리 이런 것도 됨\n",
    "B = [[1,2,3,4], [5,6,7,8]]\n",
    "print(B)\n",
    "print(B[0][2])\n",
    "# print(B[0,2]) # 리스트는 안됨\n",
    "print(A[1,:]) # 1행, 전체\n",
    "print(A[1,0:3:2])\n",
    "print(A[:,2]) # 전부, 2열\n",
    "print(A[:][2])"
   ]
  },
  {
   "cell_type": "code",
   "execution_count": null,
   "id": "df94d9eb",
   "metadata": {},
   "outputs": [
    {
     "name": "stdout",
     "output_type": "stream",
     "text": [
      "tensor([[[ 0,  1,  2,  3],\n",
      "         [ 4,  5,  6,  7],\n",
      "         [ 8,  9, 10, 11]],\n",
      "\n",
      "        [[12, 13, 14, 15],\n",
      "         [16, 17, 18, 19],\n",
      "         [20, 21, 22, 23]]])\n",
      "torch.Size([2, 3, 4])\n",
      "tensor(6)\n",
      "torch.Size([4])\n"
     ]
    }
   ],
   "source": [
    "# 3차원 행렬 인덱싱\n",
    "A=torch.tensor([[[0,1,2,3],[4,5,6,7],[8,9,10,11]],\n",
    "               [[12,13,14,15],[16,17,18,19],[20,21,22,23]]])\n",
    "print(A)\n",
    "print(A.shape)\n",
    "print(A[0,1,2])\n",
    "\n",
    "a=torch.tensor([1,2,3,4]) # 대괄호가 하나 늘어나면 왼쪽에 shape 값이 추가된다.\n",
    "print(a.shape)"
   ]
  },
  {
   "cell_type": "code",
   "execution_count": null,
   "id": "1a0d7046",
   "metadata": {},
   "outputs": [],
   "source": []
  }
 ],
 "metadata": {
  "kernelspec": {
   "display_name": "PyTorchStudy",
   "language": "python",
   "name": "python3"
  },
  "language_info": {
   "codemirror_mode": {
    "name": "ipython",
    "version": 3
   },
   "file_extension": ".py",
   "mimetype": "text/x-python",
   "name": "python",
   "nbconvert_exporter": "python",
   "pygments_lexer": "ipython3",
   "version": "3.13.5"
  }
 },
 "nbformat": 4,
 "nbformat_minor": 5
}
