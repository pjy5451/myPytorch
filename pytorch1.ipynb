{
 "cells": [
  {
   "cell_type": "markdown",
   "id": "9a46fbbe",
   "metadata": {
    "vscode": {
     "languageId": "plaintext"
    }
   },
   "source": [
    "### numpy와 닮은 파이토치(pytorch)"
   ]
  },
  {
   "cell_type": "code",
   "execution_count": 1,
   "id": "19672a09",
   "metadata": {},
   "outputs": [
    {
     "name": "stdout",
     "output_type": "stream",
     "text": [
      "NVIDIA GeForce RTX 4070 SUPER\n",
      "True\n",
      "2.8.0+cu126\n"
     ]
    }
   ],
   "source": [
    "import torch\n",
    "print(torch.cuda.get_device_name(0))\n",
    "print(torch.cuda.is_available())\n",
    "print(torch.__version__)"
   ]
  },
  {
   "cell_type": "code",
   "execution_count": 2,
   "id": "4c9045e5",
   "metadata": {},
   "outputs": [
    {
     "name": "stdout",
     "output_type": "stream",
     "text": [
      "tensor([1, 2, 3, 4])\n",
      "<class 'torch.Tensor'>\n",
      "torch.int64\n",
      "torch.Size([4])\n",
      "torch.float32\n",
      "tensor([1.0000, 2.0000, 3.1000, 4.0000])\n"
     ]
    }
   ],
   "source": [
    "a=torch.tensor([1,2,3,4]) # list가 입력으로 들어가는 함수\n",
    "print(a)\n",
    "print(type(a))\n",
    "print(a.dtype) # data type\n",
    "print(a.shape)\n",
    "b=torch.tensor([1,2,3.1,4])\n",
    "print(b.dtype) # 하나라도 실수면 자동으로 실수 타입으로\n",
    "print(b) "
   ]
  },
  {
   "cell_type": "code",
   "execution_count": 3,
   "id": "26f5547d",
   "metadata": {},
   "outputs": [
    {
     "name": "stdout",
     "output_type": "stream",
     "text": [
      "tensor([[1, 2, 3],\n",
      "        [3, 4, 5]])\n",
      "torch.Size([2, 3])\n",
      "2\n",
      "6\n"
     ]
    }
   ],
   "source": [
    "A=torch.tensor([[1,2,3],[3,4,5]]) # 이 셀부터는 import torch 는 실행했다 치고 작성\n",
    "# A=torch.tensor([[1,2],[3,4,5]]) # 리스트와는 달리 이제는 행렬이라서 각 행에 해당하는 숫자의 개수가 같아야 함\n",
    "print(A)\n",
    "print(A.shape)\n",
    "print(A.ndim) # 차원의 수\n",
    "print(A.numel()) # 전체 성분의 수"
   ]
  },
  {
   "cell_type": "code",
   "execution_count": 4,
   "id": "d179a473",
   "metadata": {},
   "outputs": [
    {
     "name": "stdout",
     "output_type": "stream",
     "text": [
      "tensor([0., 0., 0., 0., 0.])\n",
      "tensor([[0, 0, 0],\n",
      "        [0, 0, 0]])\n",
      "tensor([1., 1., 1., 1., 1.])\n",
      "tensor([[0., 0., 0.],\n",
      "        [0., 0., 0.],\n",
      "        [0., 0., 0.]])\n",
      "tensor([3, 5, 7, 9])\n",
      "tensor([0.0000, 0.1000, 0.2000, 0.3000, 0.4000, 0.5000, 0.6000, 0.7000, 0.8000,\n",
      "        0.9000])\n",
      "tensor([0.0000, 0.1111, 0.2222, 0.3333, 0.4444, 0.5556, 0.6667, 0.7778, 0.8889,\n",
      "        1.0000])\n"
     ]
    }
   ],
   "source": [
    "print(torch.zeros(5))\n",
    "print(torch.zeros_like(A))\n",
    "print(torch.ones(5))\n",
    "print(torch.zeros(3,3))\n",
    "print(torch.arange(3,10,2)) # range랑 같은데 tensor로 만들어줌\n",
    "print(torch.arange(0,1,0.1)) # 소수점 가능\n",
    "print(torch.linspace(0,1,10)) # 0 에서부터 1 포함 10개로"
   ]
  },
  {
   "cell_type": "code",
   "execution_count": 5,
   "id": "b9dfff95",
   "metadata": {},
   "outputs": [
    {
     "name": "stdout",
     "output_type": "stream",
     "text": [
      "tensor([5, 7, 9])\n"
     ]
    }
   ],
   "source": [
    "a=torch.tensor([1,2,3])\n",
    "b=torch.tensor([4,5,6])\n",
    "c=a+b # 덧셈은? 성분끼리의 합! (벡터 덧셈)\n",
    "print(c)"
   ]
  },
  {
   "cell_type": "code",
   "execution_count": 6,
   "id": "a9bc57d5",
   "metadata": {},
   "outputs": [
    {
     "name": "stdout",
     "output_type": "stream",
     "text": [
      "tensor([[5, 7, 9],\n",
      "        [2, 3, 4]])\n",
      "tensor([[-3, -3, -3],\n",
      "        [ 0,  1,  2]])\n",
      "\n",
      "tensor([[ 4, 10, 18],\n",
      "        [ 1,  2,  3]])\n",
      "tensor([[0.2500, 0.4000, 0.5000],\n",
      "        [1.0000, 2.0000, 3.0000]])\n",
      "tensor([[16, 25, 36],\n",
      "        [ 1,  1,  1]])\n"
     ]
    }
   ],
   "source": [
    "A=torch.tensor([[1,2,3],[1,2,3]])\n",
    "B=torch.tensor([[4,5,6],[1,1,1]])\n",
    "C=A+B\n",
    "D=A-B\n",
    "print(C)\n",
    "print(D)\n",
    "print()\n",
    "print(A*B) # 곱셈은? 성분끼리의 곱! (Hadamard product)\n",
    "print(A/B) # 나누기도 마찬가지\n",
    "print(B**2) # 제곱도 각 성분에 대해서 해준다"
   ]
  },
  {
   "cell_type": "code",
   "execution_count": 7,
   "id": "69269955",
   "metadata": {},
   "outputs": [
    {
     "name": "stdout",
     "output_type": "stream",
     "text": [
      "tensor([[ 1,  4],\n",
      "        [ 9, 16]])\n",
      "tensor([[ 7, 10],\n",
      "        [15, 22]])\n",
      "tensor([[ 7, 10],\n",
      "        [15, 22]])\n"
     ]
    }
   ],
   "source": [
    "A=torch.tensor([[1,2],[3,4]])\n",
    "B=torch.tensor([[1,2],[3,4]])\n",
    "print(A*B)\n",
    "print(A@B) # 이게 진짜 행렬 곱\n",
    "print(A.matmul(B)) # 위와 동일"
   ]
  },
  {
   "cell_type": "markdown",
   "id": "e647e3d2",
   "metadata": {},
   "source": [
    "### pytorch의 인덱싱과 슬라이싱"
   ]
  },
  {
   "cell_type": "code",
   "execution_count": 8,
   "id": "423ea4d9",
   "metadata": {},
   "outputs": [
    {
     "name": "stdout",
     "output_type": "stream",
     "text": [
      "tensor(1)\n",
      "tensor(2)\n",
      "tensor(9)\n",
      "tensor([2, 3, 4])\n",
      "tensor([8, 9])\n",
      "tensor([1, 2, 3, 4, 5, 6, 7])\n",
      "tensor([1, 2, 3, 4, 5, 6, 7, 8, 9])\n"
     ]
    }
   ],
   "source": [
    "a=torch.tensor([1,2,3,4,5,6,7,8,9])\n",
    "# 인덱싱과 슬라이싱, list할 때와 동일!\n",
    "print(a[0])\n",
    "print(a[1])\n",
    "print(a[-1])\n",
    "print(a[1:4])\n",
    "print(a[7:]) # 이상\n",
    "print(a[:7]) # 미만\n",
    "print(a[:])"
   ]
  },
  {
   "cell_type": "code",
   "execution_count": 9,
   "id": "756a0761",
   "metadata": {},
   "outputs": [
    {
     "name": "stdout",
     "output_type": "stream",
     "text": [
      "tensor([1, 2, 3])\n",
      "tensor([7, 8, 9])\n",
      "tensor([[4, 5, 6],\n",
      "        [7, 8, 9]])\n",
      "tensor([[1, 2, 3],\n",
      "        [4, 5, 6],\n",
      "        [7, 8, 9]])\n",
      "tensor(3)\n",
      "tensor(3)\n",
      "[[1, 2, 3, 4], [5, 6, 7, 8]]\n",
      "3\n",
      "tensor([4, 5, 6])\n",
      "tensor([4, 6])\n",
      "tensor([3, 6, 9])\n",
      "tensor([7, 8, 9])\n"
     ]
    }
   ],
   "source": [
    "# 행렬에 대한 인덱싱과 슬라이싱\n",
    "A=torch.tensor([[1,2,3],[4,5,6],[7,8,9]])\n",
    "print(A[0]) # 하나만 쓰면 행에 대한 인덱싱 (리스트 속 리스트 생각)\n",
    "print(A[-1])\n",
    "print(A[1:])\n",
    "print(A[:])\n",
    "print(A[0][2])\n",
    "print(A[0,2]) # 2차원 행렬도 동일한데, 리스트와 달리 이런 것도 됨\n",
    "B = [[1,2,3,4], [5,6,7,8]]\n",
    "print(B)\n",
    "print(B[0][2])\n",
    "# print(B[0,2]) # 리스트는 안됨\n",
    "print(A[1,:]) # 1행, 전체\n",
    "print(A[1,0:3:2])\n",
    "print(A[:,2]) # 전부, 2열\n",
    "print(A[:][2])"
   ]
  },
  {
   "cell_type": "code",
   "execution_count": 58,
   "id": "df94d9eb",
   "metadata": {},
   "outputs": [
    {
     "name": "stdout",
     "output_type": "stream",
     "text": [
      "tensor([[[ 0,  1,  2,  3],\n",
      "         [ 4,  5,  6,  7],\n",
      "         [ 8,  9, 10, 11]],\n",
      "\n",
      "        [[12, 13, 14, 15],\n",
      "         [16, 17, 18, 19],\n",
      "         [20, 21, 22, 23]]])\n",
      "torch.Size([2, 3, 4])\n",
      "tensor(6)\n",
      "torch.Size([1, 1, 4])\n"
     ]
    }
   ],
   "source": [
    "# 3차원 행렬 인덱싱\n",
    "A=torch.tensor([[[0,1,2,3],[4,5,6,7],[8,9,10,11]],\n",
    "               [[12,13,14,15],[16,17,18,19],[20,21,22,23]]])\n",
    "print(A)\n",
    "print(A.shape)\n",
    "print(A[0,1,2])\n",
    "\n",
    "a=torch.tensor([[[1,2,3,4]]]) # 대괄호가 하나 늘어나면 왼쪽에 shape 값이 추가된다.\n",
    "print(a.shape)"
   ]
  },
  {
   "cell_type": "code",
   "execution_count": null,
   "id": "1a0d7046",
   "metadata": {},
   "outputs": [
    {
     "name": "stdout",
     "output_type": "stream",
     "text": [
      "tensor([[[ 0,  1,  2,  3],\n",
      "         [ 4,  5,  6,  7],\n",
      "         [ 8,  9, 10, 11]],\n",
      "\n",
      "        [[12, 13, 14, 15],\n",
      "         [16, 17, 18, 19],\n",
      "         [20, 21, 22, 23]]])\n",
      "[tensor(3), tensor(19), tensor(22), tensor(5)]\n"
     ]
    },
    {
     "data": {
      "text/plain": [
       "tensor([ 3, 19, 22,  5])"
      ]
     },
     "execution_count": 67,
     "metadata": {},
     "output_type": "execute_result"
    }
   ],
   "source": [
    "# 리스트로 인덱싱\n",
    "print(A)\n",
    "print([A[0,0,3] ,A[1,1,3] ,A[1,2,2] ,A[0,1,1]])\n",
    "A[[0,1,1,0],[0,1,2,1],[3,3,2,1]] # 대괄호 바깥부터 순서에 맞춰서 인덱싱\n"
   ]
  },
  {
   "cell_type": "code",
   "execution_count": 19,
   "id": "5f569273",
   "metadata": {},
   "outputs": [
    {
     "name": "stdout",
     "output_type": "stream",
     "text": [
      "False\n",
      "tensor([[False, False, False,  True],\n",
      "        [ True, False,  True, False]])\n",
      "tensor([4, 5, 7])\n",
      "tensor([[  1,   2,   3, 100],\n",
      "        [100,   3, 100,   3]])\n",
      "tensor([[1, 2],\n",
      "        [7, 8]])\n",
      "tensor([1, 2])\n"
     ]
    }
   ],
   "source": [
    "#boolean 인덱싱\n",
    "a=[1,2,3,4,5,3,3]\n",
    "print(a==3) # 여러개 값 들어있는 리스트랑 3 달랑 하나랑 같냐? 다르다!\n",
    "A=torch.tensor([[1,2,3,4],[5,3,7,3]])\n",
    "print(A>3) # 리스트와 달리 각 성분에 대해 비교해 줌\n",
    "print(A[A>3]) # True, False가 담긴 행렬로 인덱싱 가능!\n",
    "\n",
    "A[A>3] = 100\n",
    "print(A) # 그러면 이런 것도 가능하다! (3보다 큰 얘들을 100으로 바꿔줘)\n",
    "\n",
    "for i in range(A.shape[0]):\n",
    "    for j in range(A.shape[1]):\n",
    "        if A[i,j]>3:\n",
    "            A[i,j]=100\n",
    "\n",
    "A=torch.tensor([[1,2],[3,4],[5,6],[7,8]])\n",
    "B=torch.tensor([True, False, False, True]) # 행만 bool로 인덱싱 하는 것도 가능. \n",
    "print(A[B,:]) # 0행, 3행 슬라이싱\n",
    "\n",
    "b=torch.tensor([1,2,3,4])\n",
    "print(b[[True,True,False,False]]) # 참고로 그냥 리스트여도 됨\n",
    "c=[1,2,3,4]\n",
    "# c[[True,True,False,False]] # error!"
   ]
  },
  {
   "cell_type": "code",
   "execution_count": null,
   "id": "3603a1a8",
   "metadata": {},
   "outputs": [
    {
     "name": "stdout",
     "output_type": "stream",
     "text": [
      "tensor([True, True, True, True])\n",
      "<class 'torch.Tensor'> <class 'torch.Tensor'>\n"
     ]
    }
   ],
   "source": [
    "# 개인 공부\n",
    "a=torch.tensor([ 3, 19, 22,  5])\n",
    "b=torch.tensor([torch.tensor(3), torch.tensor(19), torch.tensor(22), torch.tensor(5)])\n",
    "print(a==b)\n",
    "print(type(a), type(b))"
   ]
  },
  {
   "cell_type": "code",
   "execution_count": 30,
   "id": "804e1981",
   "metadata": {},
   "outputs": [
    {
     "name": "stdout",
     "output_type": "stream",
     "text": [
      "tensor(3)\n",
      "tensor(3)\n",
      "tensor([[3, 3, 3],\n",
      "        [4, 4, 4]])\n",
      "tensor([1, 2, 3])\n",
      "torch.Size([2, 2, 3])\n",
      "tensor([[[1, 2, 3],\n",
      "         [4, 5, 6]],\n",
      "\n",
      "        [[4, 5, 6],\n",
      "         [4, 5, 6]]])\n"
     ]
    },
    {
     "data": {
      "text/plain": [
       "<matplotlib.image.AxesImage at 0x1a8b5418690>"
      ]
     },
     "execution_count": 30,
     "metadata": {},
     "output_type": "execute_result"
    },
    {
     "data": {
      "image/png": "[encoded data removed]",
      "text/plain": [
       "<Figure size 640x480 with 1 Axes>"
      ]
     },
     "metadata": {},
     "output_type": "display_data"
    }
   ],
   "source": [
    "# tensor로 인덱싱\n",
    "a=torch.tensor([1,2,3,4,5])\n",
    "A=a[2]\n",
    "print(A)\n",
    "A=a[torch.tensor(2)] # torch.tensor를 안에다가?\n",
    "print(A)\n",
    "A=a[torch.tensor([[2,2,2],[3,3,3]])]\n",
    "print(A) # 인덱싱된 얘들로 2행 3열짜리 행렬을 만든다\n",
    "\n",
    "a=[1,2,3]\n",
    "a=[[1,1,1,1,2,2,2]] # error!\n",
    "\n",
    "a=torch.tensor([[1,2,3], [4,5,6]])\n",
    "print(a[torch.tensor(0)])\n",
    "A=a[torch.tensor([[0,1],[1,1]])]\n",
    "print(A.shape) # 예를 들어, a[0] = tensor([1,2,3])과 같이 1차원 데이터이므로 한 차원이 뒤에 늘어나서 2,2, \"3\"이 된다 -> [[0,1],[1,1]] -> 이미 2행 2열짜리 행렬. 그 안의 [0]이 1,2,3 / [1]이 4,5,6 이므로 2,2,3짜리 행렬이 된다\n",
    "print(A) # segmentation 결과 그림 보여줄 때 사용\n",
    "\n",
    "b=torch.tensor([[255,255,0],[0,255,0],[0,0,255],[255,0,255],[70,80,75],[0,0,4],[60,100,255]])\n",
    "import matplotlib.pyplot as plt\n",
    "plt.imshow(b[torch.tensor([[0,1],[1,2]])])"
   ]
  },
  {
   "cell_type": "code",
   "execution_count": 56,
   "id": "34e60534",
   "metadata": {},
   "outputs": [
    {
     "name": "stdout",
     "output_type": "stream",
     "text": [
      "tensor([[[1, 2, 3],\n",
      "         [4, 5, 6]],\n",
      "\n",
      "        [[4, 5, 6],\n",
      "         [4, 5, 6]]])\n",
      "[tensor([1, 2, 3]), tensor([4, 5, 6]), tensor([4, 5, 6]), tensor([4, 5, 6])]\n",
      "tensor([[[1, 2, 3],\n",
      "         [4, 5, 6]],\n",
      "\n",
      "        [[4, 5, 6],\n",
      "         [4, 5, 6]]])\n"
     ]
    }
   ],
   "source": [
    "# 도전해 보세요\n",
    "a=torch.tensor([[1,2,3],[4,5,6]])\n",
    "A=a[torch.tensor([[0,1],[1,1]])]\n",
    "print(A)\n",
    "# A와 같은 것을 리스트로 인덱싱을 통해 얻으려면?\n",
    "# [[a[0],a[1]],[a[1],a[1]]]\n",
    "\n",
    "B=[a[[0,0,0],[0,1,2]],a[[1,1,1],[0,1,2]],a[[1,1,1],[0,1,2]],a[[1,1,1],[0,1,2]]]\n",
    "print(B)\n",
    "\n",
    "B=a[[[[0,0,0],[1,1,1]],[[1,1,1],[1,1,1]]],[[[0,1,2],[0,1,2]],[[0,1,2],[0,1,2]]]]\n",
    "\n",
    "# print(A)\n",
    "print(B)\n",
    "# 리스트로 인덱싱하는 것과는 확실히 다름"
   ]
  },
  {
   "cell_type": "markdown",
   "id": "cadef0e6",
   "metadata": {},
   "source": [
    "### 가장 어려운 파트"
   ]
  },
  {
   "cell_type": "code",
   "execution_count": 73,
   "id": "18f33a43",
   "metadata": {},
   "outputs": [
    {
     "name": "stdout",
     "output_type": "stream",
     "text": [
      "tensor([[1, 2, 6],\n",
      "        [3, 4, 7],\n",
      "        [5, 6, 2],\n",
      "        [7, 8, 9]])\n",
      "torch.Size([4, 3])\n",
      "tensor(2)\n",
      "tensor([2, 6, 7, 3, 5])\n",
      "tensor([[1, 2],\n",
      "        [8, 3]])\n",
      "tensor([2, 6, 2, 8])\n",
      "tensor([2, 2])\n",
      "tensor([2, 6])\n",
      "tensor([[3, 4, 7],\n",
      "        [3, 4, 7],\n",
      "        [5, 6, 2],\n",
      "        [5, 6, 2],\n",
      "        [5, 6, 2]])\n"
     ]
    }
   ],
   "source": [
    "A=torch.tensor([[1,2,6],[3,4,7],[5,6,2],[7,8,9]])\n",
    "print(A)\n",
    "print(A.shape)\n",
    "\n",
    "# 1. A[몇 번째 행이냐, 몇 번째 열이냐]\n",
    "print(A[0,1])\n",
    "# 2-1. A[[몇 번째 행이냐, 몇 번째 행이냐], [몇 번째 열이냐, 몇 번째 열이냐]]\n",
    "print(A[[0,2,3,1,2],[1,1,0,0,0]])\n",
    "# 2-2. A[  [[몇 번째 행이냐],  [몇 번쨰 행이냐]],  [[몇 번째 열이냐],  [몇 번째 열이냐]]  ] => 결과가 행렬 형태가 되도록 인덱싱!\n",
    "print(A[[[0,2],[3,1]],[[0,2],[1,0]]])\n",
    "# 3. A[ tensor(bool) ] => A와 같은 shape을 갖는 tensor형 bool이 어디에 True 가지고 있냐\n",
    "print(A[torch.tensor([[False,True,True],[False,False,False,],[False,False,True],[False,True,False]])])\n",
    "print(A[A==2])\n",
    "# 4. A[몇 번째 값에 True가 있냐, 몇 번째 값에 True가 있냐]\n",
    "print(A[[True,False,False,False,],[False,True,True]])\n",
    "# 5. A[tensor] => 몇 번째 것을 어떻게 쌓을거냐\n",
    "print(A[torch.tensor([1,1,2,2,2])])\n"
   ]
  },
  {
   "cell_type": "markdown",
   "id": "5d010ef5",
   "metadata": {},
   "source": [
    "### 추가 개인 테스트"
   ]
  },
  {
   "cell_type": "code",
   "execution_count": 98,
   "id": "283b44ee",
   "metadata": {},
   "outputs": [
    {
     "data": {
      "text/plain": [
       "tensor([[[1, 5],\n",
       "         [1, 1]],\n",
       "\n",
       "        [[5, 5],\n",
       "         [2, 2]]])"
      ]
     },
     "execution_count": 98,
     "metadata": {},
     "output_type": "execute_result"
    }
   ],
   "source": [
    "py=[[1,2,3],[4,5,6]]\n",
    "tx=torch.tensor(py)\n",
    "\n",
    "row=torch.tensor([[[0,1],[0,0]],[[1,1],[0,0]]])\n",
    "col=torch.tensor([[[0,1],[0,0]],[[1,1],[1,1]]])\n",
    "tx[row,col]"
   ]
  }
 ],
 "metadata": {
  "kernelspec": {
   "display_name": "PyTorchStudy",
   "language": "python",
   "name": "python3"
  },
  "language_info": {
   "codemirror_mode": {
    "name": "ipython",
    "version": 3
   },
   "file_extension": ".py",
   "mimetype": "text/x-python",
   "name": "python",
   "nbconvert_exporter": "python",
   "pygments_lexer": "ipython3",
   "version": "3.13.5"
  }
 },
 "nbformat": 4,
 "nbformat_minor": 5
}
