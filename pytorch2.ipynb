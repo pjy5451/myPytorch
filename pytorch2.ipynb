{
 "cells": [
  {
   "cell_type": "markdown",
   "id": "73bd94f8",
   "metadata": {},
   "source": [
    "### 딥러닝을 가능케한 autograd"
   ]
  },
  {
   "cell_type": "code",
   "execution_count": 1,
   "id": "fa1c253b",
   "metadata": {},
   "outputs": [],
   "source": [
    "import torch"
   ]
  },
  {
   "cell_type": "code",
   "execution_count": 2,
   "id": "5b0da3ab",
   "metadata": {},
   "outputs": [
    {
     "name": "stdout",
     "output_type": "stream",
     "text": [
      "tensor([1.], requires_grad=True)\n"
     ]
    }
   ],
   "source": [
    "x=torch.tensor([1.], requires_grad=True)\n",
    "print(x)"
   ]
  },
  {
   "cell_type": "code",
   "execution_count": 3,
   "id": "31102658",
   "metadata": {},
   "outputs": [
    {
     "name": "stdout",
     "output_type": "stream",
     "text": [
      "tensor([1.])\n",
      "False\n",
      "tensor([1.], requires_grad=True)\n",
      "True\n"
     ]
    }
   ],
   "source": [
    "x=torch.tensor([1.])\n",
    "print(x)\n",
    "print(x.requires_grad)\n",
    "\n",
    "x.requires_grad=True\n",
    "print(x)\n",
    "print(x.requires_grad)"
   ]
  },
  {
   "cell_type": "code",
   "execution_count": 4,
   "id": "2b20509f",
   "metadata": {},
   "outputs": [
    {
     "name": "stdout",
     "output_type": "stream",
     "text": [
      "tensor([1.], grad_fn=<PowBackward0>)\n",
      "None\n",
      "tensor([2.])\n"
     ]
    }
   ],
   "source": [
    "x=torch.tensor([1.], requires_grad=True)\n",
    "y=x**2\n",
    "print(y)\n",
    "\n",
    "print(x.grad)\n",
    "y.backward()\n",
    "print(x.grad) # y=x**2을 미분한 2x의 x값에 1을 대입한 gradient 값"
   ]
  },
  {
   "cell_type": "code",
   "execution_count": 5,
   "id": "2fcc1c7e",
   "metadata": {},
   "outputs": [
    {
     "name": "stdout",
     "output_type": "stream",
     "text": [
      "tensor([1.], grad_fn=<PowBackward0>)\n",
      "tensor([3.], grad_fn=<MulBackward0>)\n",
      "tensor([6.])\n"
     ]
    }
   ],
   "source": [
    "x=torch.tensor([1.], requires_grad=True)\n",
    "y=x**2\n",
    "print(y)\n",
    "# y.retain_grad() # 이걸 하면 y.grad도 볼 수 있음\n",
    "\n",
    "z=3*y\n",
    "print(z) # MulBackward0 가 붙어있음\n",
    "\n",
    "z.backward() # reguires_grad=True인 애들에 대해서만 gradient 계산\n",
    "print(x.grad) # chained rule에 의해 계산된 값\n",
    "# print(y.grad) # warning! 중간건 안됨"
   ]
  },
  {
   "cell_type": "code",
   "execution_count": 6,
   "id": "21f46f1e",
   "metadata": {},
   "outputs": [
    {
     "name": "stdout",
     "output_type": "stream",
     "text": [
      "tensor([2.])\n"
     ]
    }
   ],
   "source": [
    "x=torch.tensor([1.], requires_grad=True)\n",
    "y=x**2\n",
    "z=3*y\n",
    "\n",
    "y.backward()\n",
    "print(x.grad) # 이렇게하면 y에서부터 뒤로 넘어감"
   ]
  },
  {
   "cell_type": "code",
   "execution_count": 7,
   "id": "62dbd208",
   "metadata": {},
   "outputs": [
    {
     "name": "stdout",
     "output_type": "stream",
     "text": [
      "tensor([2.], grad_fn=<AddBackward0>)\n",
      "tensor([8.])\n"
     ]
    }
   ],
   "source": [
    "x=torch.tensor([1.], requires_grad=True)\n",
    "a=x**2\n",
    "b=a+1\n",
    "print(b) # AddBackward0 가 붙었음\n",
    "c=b**2\n",
    "c.backward()\n",
    "print(x.grad)"
   ]
  },
  {
   "cell_type": "code",
   "execution_count": 8,
   "id": "d2c81db1",
   "metadata": {},
   "outputs": [
    {
     "name": "stdout",
     "output_type": "stream",
     "text": [
      "tensor([3.], grad_fn=<AddBackward0>)\n",
      "tensor([4.])\n",
      "tensor([2.])\n"
     ]
    }
   ],
   "source": [
    "x=torch.tensor([1.], requires_grad=True)\n",
    "y=torch.tensor([1.], requires_grad=True)\n",
    "z=2*x**2 + y**2\n",
    "print(z)\n",
    "z.backward() # z가 가진 requires_grad=True인 애들에 대해서 gradient 계산\n",
    "print(x.grad) # x로 편미분 후 x=1 대입\n",
    "print(y.grad) # y로 편미분 후 y=1 대입"
   ]
  },
  {
   "cell_type": "code",
   "execution_count": 9,
   "id": "39af7104",
   "metadata": {},
   "outputs": [
    {
     "name": "stdout",
     "output_type": "stream",
     "text": [
      "tensor([1.], grad_fn=<MulBackward0>)\n",
      "tensor([2.])\n",
      "tensor([1.])\n"
     ]
    }
   ],
   "source": [
    "x=torch.tensor([1.], requires_grad=True)\n",
    "y=torch.tensor([1.], requires_grad=True)\n",
    "z=y*x**2\n",
    "print(z)\n",
    "z.backward() # z가 가진 requires_grad=True인 애들에 대해서 gradient 계산\n",
    "print(x.grad) # x로 편미분 후 x=1 대입\n",
    "print(y.grad) # y로 편미분 후 y=1 대입"
   ]
  },
  {
   "cell_type": "code",
   "execution_count": 10,
   "id": "6c35452d",
   "metadata": {},
   "outputs": [
    {
     "name": "stdout",
     "output_type": "stream",
     "text": [
      "tensor(14., grad_fn=<SumBackward0>)\n",
      "tensor([2., 4., 6.])\n"
     ]
    }
   ],
   "source": [
    "x=torch.tensor([1., 2., 3.], requires_grad=True)\n",
    "y=torch.sum(x**2) # x1**2 + x2**2 + x3**2\n",
    "y.backward()\n",
    "\n",
    "print(y)\n",
    "print(x.grad) # 스칼라를 벡터로 미분"
   ]
  },
  {
   "cell_type": "code",
   "execution_count": 11,
   "id": "ca88ff3b",
   "metadata": {},
   "outputs": [
    {
     "name": "stdout",
     "output_type": "stream",
     "text": [
      "tensor([1.])\n"
     ]
    }
   ],
   "source": [
    "x=torch.tensor([1.], requires_grad=True)\n",
    "x.requires_grad=False\n",
    "# transfer learning 할 때 필요\n",
    "y=x**2\n",
    "print(y)\n",
    "# y.backward() # error!"
   ]
  },
  {
   "cell_type": "code",
   "execution_count": 12,
   "id": "63b5efc9",
   "metadata": {},
   "outputs": [
    {
     "name": "stdout",
     "output_type": "stream",
     "text": [
      "tensor([2.], requires_grad=True)\n",
      "tensor([2.])\n",
      "tensor([4.], grad_fn=<PowBackward0>)\n",
      "tensor([4.])\n"
     ]
    }
   ],
   "source": [
    "x=torch.tensor([2.], requires_grad=True)\n",
    "x2=x.detach() # detach는 requires_grad=False인 새로운 tensor를 만듦\n",
    "print(x)\n",
    "print(x2)\n",
    "y=x**2\n",
    "print(y)\n",
    "y2=x2**2\n",
    "print(y2)"
   ]
  },
  {
   "cell_type": "code",
   "execution_count": 13,
   "id": "1b7d727e",
   "metadata": {},
   "outputs": [
    {
     "name": "stdout",
     "output_type": "stream",
     "text": [
      "tensor([2.])\n"
     ]
    }
   ],
   "source": [
    "# detach 사용 용도\n",
    "x=torch.tensor([1.], requires_grad=True)\n",
    "y=x**2\n",
    "z=y.detach() # x로 만든 것을 상수로 사용하고 싶은 것. y.requires_grad=False 뭐 이런 식으로 중간에 상수로 바꿀 수는 없다\n",
    "w=y+z # x**2+1과 같다\n",
    "\n",
    "w.backward()\n",
    "print(x.grad) # w를 x로 미분한 값. w=x**2+1이므로 2x에 x=1 대입한 값"
   ]
  },
  {
   "cell_type": "code",
   "execution_count": 14,
   "id": "e3cd62f8",
   "metadata": {},
   "outputs": [
    {
     "name": "stdout",
     "output_type": "stream",
     "text": [
      "True\n",
      "tensor([1.])\n",
      "True\n",
      "tensor([1.], grad_fn=<PowBackward0>)\n",
      "False\n",
      "tensor([1.])\n"
     ]
    }
   ],
   "source": [
    "# 많이 쓰이는 torch.no_grad\n",
    "x=torch.tensor([1.], requires_grad=True)\n",
    "# chain rule을 위해 계속 grad fn을 update하니까 grad_fn 잠시 안 계산하고 싶을 때 torch.no_grad\n",
    "# 모델 테스트 시에는 불필요하게 메모리 쓸 필요 없기 때문\n",
    "with torch.no_grad(): # 이 안에서는 requires_grad가 False가 됨. with문 밖에서는 다시 True\n",
    "    y=x**2\n",
    "    print(x.requires_grad)\n",
    "    print(y) # with 안에서 계산되는 얘는 grad_fn이 안붙음.\n",
    "print(x.requires_grad)\n",
    "# y.backward() # error!\n",
    "y=x**2\n",
    "print(y)\n",
    "\n",
    "x=torch.tensor([1.], requires_grad=True)\n",
    "x.requires_grad=False\n",
    "y=x**2\n",
    "print(x.requires_grad)\n",
    "print(y)\n",
    "# y.backward() # error!\n"
   ]
  },
  {
   "cell_type": "code",
   "execution_count": 15,
   "id": "ac83f83c",
   "metadata": {},
   "outputs": [
    {
     "name": "stdout",
     "output_type": "stream",
     "text": [
      "tensor([1., 4., 9.], grad_fn=<PowBackward0>)\n",
      "None\n"
     ]
    }
   ],
   "source": [
    "x=torch.tensor([1., 2., 3.], requires_grad=True)\n",
    "y=x**2\n",
    "print(y)\n",
    "# y.backward() # error! 벡터를 스칼라로 미분하는 건 안됨\n",
    "\n",
    "print(x.grad)"
   ]
  },
  {
   "cell_type": "code",
   "execution_count": 16,
   "id": "411a20d6",
   "metadata": {},
   "outputs": [
    {
     "name": "stdout",
     "output_type": "stream",
     "text": [
      "Requirement already satisfied: torchviz in c:\\users\\jy\\level1_pytorch\\pytorchstudy\\lib\\site-packages (0.0.3)\n",
      "Requirement already satisfied: torch in c:\\users\\jy\\level1_pytorch\\pytorchstudy\\lib\\site-packages (from torchviz) (2.8.0+cu126)\n",
      "Requirement already satisfied: graphviz in c:\\users\\jy\\level1_pytorch\\pytorchstudy\\lib\\site-packages (from torchviz) (0.21)\n",
      "Requirement already satisfied: filelock in c:\\users\\jy\\level1_pytorch\\pytorchstudy\\lib\\site-packages (from torch->torchviz) (3.13.1)\n",
      "Requirement already satisfied: typing-extensions>=4.10.0 in c:\\users\\jy\\level1_pytorch\\pytorchstudy\\lib\\site-packages (from torch->torchviz) (4.12.2)\n",
      "Requirement already satisfied: sympy>=1.13.3 in c:\\users\\jy\\level1_pytorch\\pytorchstudy\\lib\\site-packages (from torch->torchviz) (1.13.3)\n",
      "Requirement already satisfied: networkx in c:\\users\\jy\\level1_pytorch\\pytorchstudy\\lib\\site-packages (from torch->torchviz) (3.3)\n",
      "Requirement already satisfied: jinja2 in c:\\users\\jy\\level1_pytorch\\pytorchstudy\\lib\\site-packages (from torch->torchviz) (3.1.4)\n",
      "Requirement already satisfied: fsspec in c:\\users\\jy\\level1_pytorch\\pytorchstudy\\lib\\site-packages (from torch->torchviz) (2024.6.1)\n",
      "Requirement already satisfied: setuptools in c:\\users\\jy\\level1_pytorch\\pytorchstudy\\lib\\site-packages (from torch->torchviz) (70.2.0)\n",
      "Requirement already satisfied: mpmath<1.4,>=1.1.0 in c:\\users\\jy\\level1_pytorch\\pytorchstudy\\lib\\site-packages (from sympy>=1.13.3->torch->torchviz) (1.3.0)\n",
      "Requirement already satisfied: MarkupSafe>=2.0 in c:\\users\\jy\\level1_pytorch\\pytorchstudy\\lib\\site-packages (from jinja2->torch->torchviz) (2.1.5)\n",
      "Note: you may need to restart the kernel to use updated packages.\n"
     ]
    },
    {
     "data": {
      "image/svg+xml": [
       "<?xml version=\"1.0\" encoding=\"UTF-8\" standalone=\"no\"?>\n",
       "<!DOCTYPE svg PUBLIC \"-//W3C//DTD SVG 1.1//EN\"\n",
       " \"http://www.w3.org/Graphics/SVG/1.1/DTD/svg11.dtd\">\n",
       "<!-- Generated by graphviz version 14.0.1 (20251006.0113)\n",
       " -->\n",
       "<!-- Pages: 1 -->\n",
       "<svg width=\"202pt\" height=\"280pt\"\n",
       " viewBox=\"0.00 0.00 202.00 280.00\" xmlns=\"http://www.w3.org/2000/svg\" xmlns:xlink=\"http://www.w3.org/1999/xlink\">\n",
       "<g id=\"graph0\" class=\"graph\" transform=\"scale(1 1) rotate(0) translate(4 275.75)\">\n",
       "<polygon fill=\"white\" stroke=\"none\" points=\"-4,4 -4,-275.75 198,-275.75 198,4 -4,4\"/>\n",
       "<!-- 1276469033344 -->\n",
       "<g id=\"node1\" class=\"node\">\n",
       "<title>1276469033344</title>\n",
       "<polygon fill=\"#caff70\" stroke=\"black\" points=\"124,-32.75 70,-32.75 70,0 124,0 124,-32.75\"/>\n",
       "<text xml:space=\"preserve\" text-anchor=\"middle\" x=\"97\" y=\"-7.25\" font-family=\"monospace\" font-size=\"10.00\"> (1)</text>\n",
       "</g>\n",
       "<!-- 1277277491488 -->\n",
       "<g id=\"node2\" class=\"node\">\n",
       "<title>1277277491488</title>\n",
       "<polygon fill=\"lightgrey\" stroke=\"black\" points=\"141,-89.5 53,-89.5 53,-68.75 141,-68.75 141,-89.5\"/>\n",
       "<text xml:space=\"preserve\" text-anchor=\"middle\" x=\"97\" y=\"-76\" font-family=\"monospace\" font-size=\"10.00\">AddBackward0</text>\n",
       "</g>\n",
       "<!-- 1277277491488&#45;&gt;1276469033344 -->\n",
       "<g id=\"edge6\" class=\"edge\">\n",
       "<title>1277277491488&#45;&gt;1276469033344</title>\n",
       "<path fill=\"none\" stroke=\"black\" d=\"M97,-68.36C97,-61.89 97,-53.05 97,-44.55\"/>\n",
       "<polygon fill=\"black\" stroke=\"black\" points=\"100.5,-44.55 97,-34.55 93.5,-44.55 100.5,-44.55\"/>\n",
       "</g>\n",
       "<!-- 1277165918416 -->\n",
       "<g id=\"node3\" class=\"node\">\n",
       "<title>1277165918416</title>\n",
       "<polygon fill=\"lightgrey\" stroke=\"black\" points=\"88,-146.25 0,-146.25 0,-125.5 88,-125.5 88,-146.25\"/>\n",
       "<text xml:space=\"preserve\" text-anchor=\"middle\" x=\"44\" y=\"-132.75\" font-family=\"monospace\" font-size=\"10.00\">MulBackward0</text>\n",
       "</g>\n",
       "<!-- 1277165918416&#45;&gt;1277277491488 -->\n",
       "<g id=\"edge1\" class=\"edge\">\n",
       "<title>1277165918416&#45;&gt;1277277491488</title>\n",
       "<path fill=\"none\" stroke=\"black\" d=\"M53.48,-125.09C60.79,-117.53 71.09,-106.89 79.84,-97.85\"/>\n",
       "<polygon fill=\"black\" stroke=\"black\" points=\"82.11,-100.54 86.55,-90.92 77.08,-95.67 82.11,-100.54\"/>\n",
       "</g>\n",
       "<!-- 1277159822080 -->\n",
       "<g id=\"node4\" class=\"node\">\n",
       "<title>1277159822080</title>\n",
       "<polygon fill=\"lightgrey\" stroke=\"black\" points=\"147,-203 47,-203 47,-182.25 147,-182.25 147,-203\"/>\n",
       "<text xml:space=\"preserve\" text-anchor=\"middle\" x=\"97\" y=\"-189.5\" font-family=\"monospace\" font-size=\"10.00\">AccumulateGrad</text>\n",
       "</g>\n",
       "<!-- 1277159822080&#45;&gt;1277165918416 -->\n",
       "<g id=\"edge2\" class=\"edge\">\n",
       "<title>1277159822080&#45;&gt;1277165918416</title>\n",
       "<path fill=\"none\" stroke=\"black\" d=\"M87.52,-181.84C80.21,-174.28 69.91,-163.64 61.16,-154.6\"/>\n",
       "<polygon fill=\"black\" stroke=\"black\" points=\"63.92,-152.42 54.45,-147.67 58.89,-157.29 63.92,-152.42\"/>\n",
       "</g>\n",
       "<!-- 1277277491440 -->\n",
       "<g id=\"node6\" class=\"node\">\n",
       "<title>1277277491440</title>\n",
       "<polygon fill=\"lightgrey\" stroke=\"black\" points=\"194,-146.25 106,-146.25 106,-125.5 194,-125.5 194,-146.25\"/>\n",
       "<text xml:space=\"preserve\" text-anchor=\"middle\" x=\"150\" y=\"-132.75\" font-family=\"monospace\" font-size=\"10.00\">AddBackward0</text>\n",
       "</g>\n",
       "<!-- 1277159822080&#45;&gt;1277277491440 -->\n",
       "<g id=\"edge5\" class=\"edge\">\n",
       "<title>1277159822080&#45;&gt;1277277491440</title>\n",
       "<path fill=\"none\" stroke=\"black\" d=\"M106.48,-181.84C113.79,-174.28 124.09,-163.64 132.84,-154.6\"/>\n",
       "<polygon fill=\"black\" stroke=\"black\" points=\"135.11,-157.29 139.55,-147.67 130.08,-152.42 135.11,-157.29\"/>\n",
       "</g>\n",
       "<!-- 1277166906784 -->\n",
       "<g id=\"node5\" class=\"node\">\n",
       "<title>1277166906784</title>\n",
       "<polygon fill=\"lightblue\" stroke=\"black\" points=\"124,-271.75 70,-271.75 70,-239 124,-239 124,-271.75\"/>\n",
       "<text xml:space=\"preserve\" text-anchor=\"middle\" x=\"97\" y=\"-246.25\" font-family=\"monospace\" font-size=\"10.00\"> (1)</text>\n",
       "</g>\n",
       "<!-- 1277166906784&#45;&gt;1277159822080 -->\n",
       "<g id=\"edge3\" class=\"edge\">\n",
       "<title>1277166906784&#45;&gt;1277159822080</title>\n",
       "<path fill=\"none\" stroke=\"black\" d=\"M97,-238.73C97,-231.35 97,-222.43 97,-214.49\"/>\n",
       "<polygon fill=\"black\" stroke=\"black\" points=\"100.5,-214.66 97,-204.66 93.5,-214.66 100.5,-214.66\"/>\n",
       "</g>\n",
       "<!-- 1277277491440&#45;&gt;1277277491488 -->\n",
       "<g id=\"edge4\" class=\"edge\">\n",
       "<title>1277277491440&#45;&gt;1277277491488</title>\n",
       "<path fill=\"none\" stroke=\"black\" d=\"M140.52,-125.09C133.21,-117.53 122.91,-106.89 114.16,-97.85\"/>\n",
       "<polygon fill=\"black\" stroke=\"black\" points=\"116.92,-95.67 107.45,-90.92 111.89,-100.54 116.92,-95.67\"/>\n",
       "</g>\n",
       "</g>\n",
       "</svg>\n"
      ],
      "text/plain": [
       "<graphviz.graphs.Digraph at 0x12963b58f50>"
      ]
     },
     "execution_count": 16,
     "metadata": {},
     "output_type": "execute_result"
    }
   ],
   "source": [
    "%pip install torchviz\n",
    "from torchviz import make_dot\n",
    "x=torch.tensor([1.], requires_grad=True)\n",
    "# make_dot(x)\n",
    "make_dot(x**2) # (1) 이라고 써있는 것은 shape을 나타냄\n",
    "# make_dot(x**2+1)\n",
    "# make_dot((x**2+1)**2)\n",
    "\n",
    "y=2*x\n",
    "z=3+x\n",
    "r=y+z\n",
    "make_dot(r)\n",
    "# 파란(1)네모는 x, 초록(1)네모는 r"
   ]
  },
  {
   "cell_type": "code",
   "execution_count": 17,
   "id": "f7a7ab3f",
   "metadata": {},
   "outputs": [
    {
     "name": "stdout",
     "output_type": "stream",
     "text": [
      "tensor([3.])\n"
     ]
    }
   ],
   "source": [
    "r.backward()\n",
    "print(x.grad)"
   ]
  }
 ],
 "metadata": {
  "kernelspec": {
   "display_name": "PyTorchStudy",
   "language": "python",
   "name": "python3"
  },
  "language_info": {
   "codemirror_mode": {
    "name": "ipython",
    "version": 3
   },
   "file_extension": ".py",
   "mimetype": "text/x-python",
   "name": "python",
   "nbconvert_exporter": "python",
   "pygments_lexer": "ipython3",
   "version": "3.13.5"
  }
 },
 "nbformat": 4,
 "nbformat_minor": 5
}
