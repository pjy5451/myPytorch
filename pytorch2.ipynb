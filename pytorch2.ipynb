{
 "cells": [
  {
   "cell_type": "markdown",
   "id": "73bd94f8",
   "metadata": {},
   "source": [
    "### 딥러닝을 가능케한 autograd"
   ]
  },
  {
   "cell_type": "code",
   "execution_count": 3,
   "id": "fa1c253b",
   "metadata": {},
   "outputs": [],
   "source": [
    "import torch"
   ]
  },
  {
   "cell_type": "code",
   "execution_count": 4,
   "id": "5b0da3ab",
   "metadata": {},
   "outputs": [
    {
     "name": "stdout",
     "output_type": "stream",
     "text": [
      "tensor([1.], requires_grad=True)\n"
     ]
    }
   ],
   "source": [
    "x=torch.tensor([1.], requires_grad=True)\n",
    "print(x)"
   ]
  },
  {
   "cell_type": "code",
   "execution_count": 6,
   "id": "31102658",
   "metadata": {},
   "outputs": [
    {
     "name": "stdout",
     "output_type": "stream",
     "text": [
      "tensor([1.])\n",
      "False\n",
      "tensor([1.], requires_grad=True)\n",
      "True\n"
     ]
    }
   ],
   "source": [
    "x=torch.tensor([1.])\n",
    "print(x)\n",
    "print(x.requires_grad)\n",
    "\n",
    "x.requires_grad=True\n",
    "print(x)\n",
    "print(x.requires_grad)"
   ]
  },
  {
   "cell_type": "code",
   "execution_count": 9,
   "id": "2b20509f",
   "metadata": {},
   "outputs": [
    {
     "name": "stdout",
     "output_type": "stream",
     "text": [
      "tensor([1.], grad_fn=<PowBackward0>)\n",
      "None\n",
      "tensor([2.])\n"
     ]
    }
   ],
   "source": [
    "x=torch.tensor([1.], requires_grad=True)\n",
    "y=x**2\n",
    "print(y)\n",
    "\n",
    "print(x.grad)\n",
    "y.backward()\n",
    "print(x.grad) # y=x**2을 미분한 2x의 x값에 1을 대입한 gradient 값"
   ]
  },
  {
   "cell_type": "code",
   "execution_count": null,
   "id": "2fcc1c7e",
   "metadata": {},
   "outputs": [
    {
     "name": "stdout",
     "output_type": "stream",
     "text": [
      "tensor([1.], grad_fn=<PowBackward0>)\n",
      "tensor([3.], grad_fn=<MulBackward0>)\n",
      "tensor([6.])\n"
     ]
    }
   ],
   "source": [
    "x=torch.tensor([1.], requires_grad=True)\n",
    "y=x**2\n",
    "print(y)\n",
    "# y.retain_grad() # 이걸 하면 y.grad도 볼 수 있음\n",
    "\n",
    "z=3*y\n",
    "print(z) # MulBackward0 가 붙어있음\n",
    "\n",
    "z.backward() # reguires_grad=True인 애들에 대해서만 gradient 계산\n",
    "print(x.grad) # chained rule에 의해 계산된 값\n",
    "# print(y.grad) # warning! 중간건 안됨"
   ]
  },
  {
   "cell_type": "code",
   "execution_count": null,
   "id": "21f46f1e",
   "metadata": {},
   "outputs": [
    {
     "name": "stdout",
     "output_type": "stream",
     "text": [
      "tensor([2.])\n"
     ]
    }
   ],
   "source": [
    "x=torch.tensor([1.], requires_grad=True)\n",
    "y=x**2\n",
    "z=3*y\n",
    "\n",
    "y.backward()\n",
    "print(x.grad) # 이렇게하면 y에서부터 뒤로 넘어감"
   ]
  },
  {
   "cell_type": "code",
   "execution_count": 18,
   "id": "62dbd208",
   "metadata": {},
   "outputs": [
    {
     "name": "stdout",
     "output_type": "stream",
     "text": [
      "tensor([2.], grad_fn=<AddBackward0>)\n",
      "tensor([8.])\n"
     ]
    }
   ],
   "source": [
    "x=torch.tensor([1.], requires_grad=True)\n",
    "a=x**2\n",
    "b=a+1\n",
    "print(b) # AddBackward0 가 붙었음\n",
    "c=b**2\n",
    "c.backward()\n",
    "print(x.grad)"
   ]
  },
  {
   "cell_type": "code",
   "execution_count": null,
   "id": "d2c81db1",
   "metadata": {},
   "outputs": [
    {
     "name": "stdout",
     "output_type": "stream",
     "text": [
      "tensor([3.], grad_fn=<AddBackward0>)\n",
      "tensor([4.])\n",
      "tensor([2.])\n"
     ]
    }
   ],
   "source": [
    "x=torch.tensor([1.], requires_grad=True)\n",
    "y=torch.tensor([1.], requires_grad=True)\n",
    "z=2*x**2 + y**2\n",
    "print(z)\n",
    "z.backward() # z가 가진 requires_grad=True인 애들에 대해서 gradient 계산\n",
    "print(x.grad) # x로 편미분 후 x=1 대입\n",
    "print(y.grad) # y로 편미분 후 y=1 대입"
   ]
  },
  {
   "cell_type": "code",
   "execution_count": 23,
   "id": "39af7104",
   "metadata": {},
   "outputs": [
    {
     "name": "stdout",
     "output_type": "stream",
     "text": [
      "tensor([1.], grad_fn=<MulBackward0>)\n",
      "tensor([2.])\n",
      "tensor([1.])\n"
     ]
    }
   ],
   "source": [
    "x=torch.tensor([1.], requires_grad=True)\n",
    "y=torch.tensor([1.], requires_grad=True)\n",
    "z=y*x**2\n",
    "print(z)\n",
    "z.backward() # z가 가진 requires_grad=True인 애들에 대해서 gradient 계산\n",
    "print(x.grad) # x로 편미분 후 x=1 대입\n",
    "print(y.grad) # y로 편미분 후 y=1 대입"
   ]
  },
  {
   "cell_type": "code",
   "execution_count": null,
   "id": "6c35452d",
   "metadata": {},
   "outputs": [
    {
     "name": "stdout",
     "output_type": "stream",
     "text": [
      "tensor(14., grad_fn=<SumBackward0>)\n",
      "tensor([2., 4., 6.])\n"
     ]
    }
   ],
   "source": [
    "x=torch.tensor([1., 2., 3.], requires_grad=True)\n",
    "y=torch.sum(x**2) # x1**2 + x2**2 + x3**2\n",
    "y.backward()\n",
    "\n",
    "print(y)\n",
    "print(x.grad) # 스칼라를 벡터로 미분"
   ]
  },
  {
   "cell_type": "code",
   "execution_count": 25,
   "id": "ca88ff3b",
   "metadata": {},
   "outputs": [
    {
     "name": "stdout",
     "output_type": "stream",
     "text": [
      "tensor([1.])\n"
     ]
    }
   ],
   "source": [
    "x=torch.tensor([1.], requires_grad=True)\n",
    "x.requires_grad=False\n",
    "# transfer learning 할 때 필요\n",
    "y=x**2\n",
    "print(y)\n",
    "# y.backward() # error!"
   ]
  },
  {
   "cell_type": "code",
   "execution_count": null,
   "id": "63b5efc9",
   "metadata": {},
   "outputs": [],
   "source": [
    "x=torch.tensor([2.], requires_grad=True)\n"
   ]
  },
  {
   "cell_type": "code",
   "execution_count": null,
   "id": "1b7d727e",
   "metadata": {},
   "outputs": [],
   "source": []
  },
  {
   "cell_type": "code",
   "execution_count": null,
   "id": "e3cd62f8",
   "metadata": {},
   "outputs": [],
   "source": []
  },
  {
   "cell_type": "code",
   "execution_count": null,
   "id": "ac83f83c",
   "metadata": {},
   "outputs": [],
   "source": []
  }
 ],
 "metadata": {
  "kernelspec": {
   "display_name": "PyTorchStudy",
   "language": "python",
   "name": "python3"
  },
  "language_info": {
   "codemirror_mode": {
    "name": "ipython",
    "version": 3
   },
   "file_extension": ".py",
   "mimetype": "text/x-python",
   "name": "python",
   "nbconvert_exporter": "python",
   "pygments_lexer": "ipython3",
   "version": "3.13.5"
  }
 },
 "nbformat": 4,
 "nbformat_minor": 5
}
